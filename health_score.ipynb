{
 "cells": [
  {
   "cell_type": "code",
   "execution_count": 22,
   "metadata": {},
   "outputs": [],
   "source": [
    "import numpy as np\n",
    "import matplotlib.pyplot as plt\n",
    "import pandas as pd"
   ]
  },
  {
   "attachments": {},
   "cell_type": "markdown",
   "metadata": {},
   "source": [
    "# Step 1: Define Health Criteria"
   ]
  },
  {
   "cell_type": "code",
   "execution_count": 90,
   "metadata": {},
   "outputs": [
    {
     "name": "stdout",
     "output_type": "stream",
     "text": [
      "total_fat\n"
     ]
    }
   ],
   "source": [
    "def to_snake_case(value):\n",
    "    return \"_\".join(value.lower().split())\n",
    "\n",
    "ingredient_map = {\n",
    "    \"Calories\": \"calories\",\n",
    "    \"Total Fat\": to_snake_case(\"Total Fat\"),\n",
    "    \"Saturated Fat\": to_snake_case(\"Saturated Fat\"),\n",
    "    \"Trans Fat\": to_snake_case(\"Trans Fat\"),\n",
    "    \"Cholesterol\": to_snake_case(\"Cholestorol\"),\n",
    "    \"Sodium\": \"sodium\",\n",
    "    \"Total Carbohydrate\": \"carbohydrates\",\n",
    "    \"Dietary Fiber\": \"fiber\",\n",
    "    \"Sugar\": \"sugar\",\n",
    "    \"Added Sugars\": to_snake_case(\"Added Sugars\"),\n",
    "    \"Protein\": \"protein\",\n",
    "    \"Vitamin A\": \"vitamin_a\",\n",
    "    \"Calcium\": \"calcium\",\n",
    "    \"Vitamin C\": \"vitamin_c\",\n",
    "    \"Vitamin D\": \"vitamin_d\",\n",
    "    \"Iron\": \"iron\"\n",
    "    \n",
    "}\n",
    "\n",
    "\n",
    "#Weights for overall health criteria (Subject to change)\n",
    "health_criteria_weights = {\n",
    "    'nutrient_density': 0.4,\n",
    "    'macronutrient_balance': 0.3,\n",
    "    'absence_of_harmful_ingredients': 0.2,\n",
    "    'adherence_to_dietary_principles': 0.1\n",
    "}\n",
    "\n",
    "nutrient_density_criteria = {\n",
    "    'vitamin_a' : {'threshold': 0.125, 'weight': 0.4},\n",
    "    'vitamin_c' : {'threshold': 0.1, 'weight': 0.3},\n",
    "    'vitamin_d' : {'threshold': 0.1, 'weight': 0.2},\n",
    "    'fiber' : {'threshold': 3, 'weight': 0.2},\n",
    "    'iron': {'threshold': 0.5, 'weight': 0.2}\n",
    "}\n",
    "\n",
    "macronutrient_balance_criteria = {\n",
    "    'carbohydrates': {'threshold': 40, 'weight': 0.4},\n",
    "    'protein': {'threshold': 20, 'weight': 0.3},\n",
    "    'total_fat': {'threshold': 30, 'weight': 0.3}\n",
    "}\n",
    "    \n",
    "absence_of_harmful_ingredients_criteria = {\n",
    "    'trans_fat': {'threshold': 0.5, 'weight': 0.5},\n",
    "    'sodium': {'threshold': 200, 'weight': 0.5},\n",
    "    'added_sugars': {'threshold': 10, 'weight': 0.5}\n",
    "}\n",
    "    \n",
    "# Criterion 4: Adherence to Dietary Principles\n",
    "adherence_to_dietary_principles_criteria = {\n",
    "    'gluten_free': {'value': True, 'weight': 1.0},\n",
    "    'organic': {'value': True, 'weight': 0.5}\n",
    "}"
   ]
  },
  {
   "cell_type": "markdown",
   "metadata": {},
   "source": [
    "# Step 2: Assign Weightings"
   ]
  },
  {
   "cell_type": "code",
   "execution_count": 91,
   "metadata": {},
   "outputs": [],
   "source": [
    "nutrient_density_weight = health_criteria_weights['nutrient_density']\n",
    "macronutrient_balance_weight = health_criteria_weights['macronutrient_balance']\n",
    "absence_of_harmful_ingredients_weight = health_criteria_weights['absence_of_harmful_ingredients']\n",
    "adherence_to_dietary_principles_weight = health_criteria_weights['adherence_to_dietary_principles']"
   ]
  },
  {
   "attachments": {},
   "cell_type": "markdown",
   "metadata": {},
   "source": [
    "# Step 3: Normalize Weights and Calculate Scores"
   ]
  },
  {
   "cell_type": "code",
   "execution_count": 106,
   "metadata": {},
   "outputs": [],
   "source": [
    "def calculate_health_score(food_item):\n",
    "    # Normalize Weights\n",
    "    serving_size = food_item['serving_size']\n",
    "\n",
    "    nutrient_density_score = calculate_weight_score(food_item, nutrient_density_criteria, 0)\n",
    "    macronutrient_balance_score = calculate_weight_score(food_item, macronutrient_balance_criteria, 1)\n",
    "    absence_of_harmful_ingredients_score = calculate_weight_score(food_item, absence_of_harmful_ingredients_criteria, 1)\n",
    "    adherence_to_dietary_principles_score = calculate_weight_score(food_item, adherence_to_dietary_principles_criteria, 2)\n",
    "\n",
    "    overall_score = (\n",
    "        nutrient_density_weight * nutrient_density_score +\n",
    "        macronutrient_balance_weight * macronutrient_balance_score +\n",
    "        absence_of_harmful_ingredients_weight * absence_of_harmful_ingredients_score +\n",
    "        adherence_to_dietary_principles_weight * adherence_to_dietary_principles_score\n",
    "    )\n",
    "\n",
    "    return overall_score\n",
    "    \n",
    "\n",
    "\n",
    "def calculate_weight_score(food_item, criteria, comparator):\n",
    "    score = 0\n",
    "    if comparator == 0:\n",
    "        for nutrient, c in criteria.items():\n",
    "            if nutrient in food_item and food_item[nutrient] >= c['threshold']:\n",
    "                score += c['weight']\n",
    "    elif comparator == 1:\n",
    "        for nutrient, c in criteria.items():\n",
    "            if nutrient in food_item and food_item[nutrient] <= c['threshold']:\n",
    "                score += c['weight']\n",
    "    else:\n",
    "        for nutrient, c in criteria.items():\n",
    "            if nutrient in food_item and food_item[nutrient] == c['value']:\n",
    "                score += c['weight']\n",
    "\n",
    "    return score\n"
   ]
  },
  {
   "cell_type": "code",
   "execution_count": 107,
   "metadata": {},
   "outputs": [
    {
     "name": "stdout",
     "output_type": "stream",
     "text": [
      "Healthiness Score: 0.7200000000000001\n"
     ]
    }
   ],
   "source": [
    "food_data = {\n",
    "    'serving_size': 100,\n",
    "    'calories': 250,\n",
    "    'carbohydrates': 30,\n",
    "    'protein': 15,\n",
    "    'fat': 10,\n",
    "    'added_sugars': 50,\n",
    "    'vitamin_c': .5,\n",
    "    'fiber': 4,\n",
    "    'trans_fat': 0.2,\n",
    "    'sodium': 180,\n",
    "    'gluten_free': True,\n",
    "    'organic': True\n",
    "}\n",
    "\n",
    "food_score = calculate_health_score(food_data)\n",
    "print(\"Healthiness Score:\", food_score)"
   ]
  },
  {
   "attachments": {},
   "cell_type": "markdown",
   "metadata": {},
   "source": [
    "# Step 4: Use Scanned Data to Calculate Score"
   ]
  },
  {
   "cell_type": "code",
   "execution_count": 108,
   "metadata": {},
   "outputs": [
    {
     "name": "stdout",
     "output_type": "stream",
     "text": [
      "['Serving Size 3 oz.', '(85g)']\n",
      "['Serving Per Container', '2']\n",
      "['Amount Per', 'Serving']\n",
      "['Calories']\n",
      "['200']\n",
      "['Calories from Fat', '120']\n",
      "['Total Fat', '15g']\n",
      "['Saturated Fat', '5g']\n",
      "['Trans Fat', '3g']\n",
      "['Cholesterol', '30mg']\n",
      "['Sodium', '650mg']\n",
      "['Total Carbohydrate', '30g']\n",
      "['Dietary Fiber', '0g']\n",
      "['Sugars', '5g']\n",
      "['Protein', '5g']\n",
      "['% Daily', 'Value*']\n",
      "['20', '%']\n",
      "['28%']\n",
      "['10', '%']\n",
      "['28', '%']\n",
      "['10', '%']\n",
      "['0%']\n",
      "['Vitamin A', '5%']\n",
      "['Calcium', '15%']\n",
      "['Vitamin C', '2%']\n",
      "['•']\n",
      "['Iron', '5%']\n",
      "['*Percent Daily Values are based on a 2,000 calorie', 'diet.']\n"
     ]
    },
    {
     "data": {
      "text/plain": [
       "{'serving_size': 85,\n",
       " 'calories': 200,\n",
       " 'total_fat': 15,\n",
       " 'saturated_fat': 5,\n",
       " 'trans_fat': 3,\n",
       " 'cholestorol': 30,\n",
       " 'sodium': 650,\n",
       " 'carbohydrates': 30,\n",
       " 'fiber': 0,\n",
       " 'protein': 5,\n",
       " 'vitamin_a': 0.05,\n",
       " 'calcium': 0.15,\n",
       " 'vitamin_c': 0.02,\n",
       " 'iron': 0.05}"
      ]
     },
     "execution_count": 108,
     "metadata": {},
     "output_type": "execute_result"
    }
   ],
   "source": [
    "filename = 'test_data/test1.txt'\n",
    "with open(filename) as f:\n",
    "    contents = [(line.strip()) for line in f.readlines()]\n",
    "\n",
    "# print(contents)\n",
    "\n",
    "\n",
    "food_dict = dict()\n",
    "for i in range(1, len(contents)):\n",
    "    curr = contents[i]\n",
    "    split_str = contents[i].rsplit(\" \", 1)\n",
    "    # print(curr)\n",
    "    print(split_str)\n",
    "    if \"Serving Size\" in split_str[0]:\n",
    "        food_dict[\"serving_size\"] = int(''.join(filter(str.isdigit, split_str[1])))\n",
    "\n",
    "    if \"Percent\" in split_str[0]:\n",
    "        break\n",
    "\n",
    "    elif split_str[0] in ingredient_map.keys() and len(split_str) == 1:\n",
    "        next_split = contents[i+1].rsplit(\" \", 1)\n",
    "        food_dict[ingredient_map[split_str[0]]] = int(next_split[0])\n",
    "\n",
    "\n",
    "        \n",
    "    elif split_str[0] in ingredient_map.keys():\n",
    "        if '%' in split_str[1]:\n",
    "            split_str[1] = float(split_str[1].strip(\"%\")) / 100\n",
    "            food_dict[ingredient_map[split_str[0]]] = split_str[1]\n",
    "\n",
    "        else: \n",
    "            food_dict[ingredient_map[split_str[0]]] = int(''.join(filter(str.isdigit, split_str[1])))\n",
    "        \n",
    "\n",
    "    # elif split_str[0] in ingredient_map.keys():\n",
    "    #     food_dict[ingredient_map[split_str[0]]] = ''.join(filter(str.isdigit, split_str[1]))\n",
    "\n",
    "\n",
    "food_dict"
   ]
  },
  {
   "cell_type": "code",
   "execution_count": 109,
   "metadata": {},
   "outputs": [
    {
     "data": {
      "text/plain": [
       "0.3"
      ]
     },
     "execution_count": 109,
     "metadata": {},
     "output_type": "execute_result"
    }
   ],
   "source": [
    "new_calculated_food_score = calculate_health_score(food_dict)\n",
    "new_calculated_food_score"
   ]
  },
  {
   "cell_type": "code",
   "execution_count": null,
   "metadata": {},
   "outputs": [],
   "source": []
  }
 ],
 "metadata": {
  "kernelspec": {
   "display_name": "base",
   "language": "python",
   "name": "python3"
  },
  "language_info": {
   "codemirror_mode": {
    "name": "ipython",
    "version": 3
   },
   "file_extension": ".py",
   "mimetype": "text/x-python",
   "name": "python",
   "nbconvert_exporter": "python",
   "pygments_lexer": "ipython3",
   "version": "3.9.13"
  },
  "orig_nbformat": 4
 },
 "nbformat": 4,
 "nbformat_minor": 2
}
