{
 "cells": [
  {
   "cell_type": "code",
   "execution_count": 2,
   "metadata": {},
   "outputs": [],
   "source": [
    "import numpy as np\n",
    "from langchain import PromptTemplate\n",
    "from langchain.llms import OpenAI, Cohere\n",
    "from langchain.chains import LLMChain\n",
    "import os\n",
    "\n",
    "os.environ[\"OPENAI_API_KEY\"] = \"\"\n",
    "os.environ[\"COHERE_API_KEY\"] = \"\""
   ]
  },
  {
   "cell_type": "code",
   "execution_count": 3,
   "metadata": {},
   "outputs": [],
   "source": [
    "llm = OpenAI(temperature=0.9)\n",
    "prompt = PromptTemplate(input_variables=[\"ingredient\"], template=\"Provide a breif list of pros and cons for {ingredient}\")"
   ]
  },
  {
   "cell_type": "code",
   "execution_count": 4,
   "metadata": {},
   "outputs": [
    {
     "name": "stdout",
     "output_type": "stream",
     "text": [
      " as a crop\n",
      "\n",
      "Pros\n",
      "\n",
      "1. Corn is a very easy crop to grow\n",
      "2. It is a relatively drought-resistant crop\n",
      "3. Corn uses less water than other crops\n",
      "4. It is a very versatile crop, providing food, feed, and fuel \n",
      "5. Corn is a high-yielding crop, producing a large amount of yield per acre\n",
      "\n",
      "Cons\n",
      "\n",
      "1. Corn is highly susceptible to pests and disease\n",
      "2. It requires a lot of fertilizers to grow properly\n",
      "3. Weeds can easily overtake a corn crop if not properly managed\n",
      "4. Growing corn can take up a lot of space\n",
      "5. Corn can take a long time to mature, and is prone to produce lower yields in shorter growing seasons\n",
      "\n",
      "\n",
      "Pros:\n",
      "1. Vegetable oil is a good source of unsaturated fat, which can help reduce cholesterol levels and maintain heart health.\n",
      "2. It has a neutral flavor, allowing it to be used as a base for many sauces and marinades.\n",
      "3. It has a high smoke point, making it suitable for frying and sautéeing.\n",
      "4. It is relatively inexpensive compared to other types of cooking oils.\n",
      "\n",
      "Cons:\n",
      "1. Vegetable oil is high in calories, so it should be consumed in moderation to avoid weight gain.\n",
      "2. Some vegetable oils contain trans fats, which should be avoided due to their potential links to heart disease and other health issues.\n",
      "3. It can go rancid quickly when exposed to light, heat, and oxygen.\n",
      "4. It is highly processed, so it lacks essential nutrients.\n",
      "\n",
      "\n",
      "Pros:\n",
      "\n",
      "-High level of sweetness, making it ideal for adding sweetness without adding calories.\n",
      "-Highly soluble and easily digested, making it great for pre- and post-exercise snacks.\n",
      "-Very affordable.\n",
      "-Low glycemic index.\n",
      "\n",
      "Cons:\n",
      "\n",
      "-May cause an increase in blood sugar levels.\n",
      "-Can be hard to digest for individuals with digestive issues.\n",
      "-Can contain additives or preservatives, which could be potentially harmful.\n",
      "-Can contain gluten or corn, which can be problematic for individuals with certain sensitivities.\n",
      " marshes\n",
      "\n",
      "Pros:\n",
      "-Provide important habitat for fish, crustaceans, birds, and other animals.\n",
      "-Protect coastal areas from storms, floods, and erosion.\n",
      "-Support a wide variety of food webs and help to promote biodiversity.\n",
      "-Serve as a buffer against pollutants from entering coastal waters.\n",
      "\n",
      "Cons:\n",
      "-Can be a source of water pollution due to the high levels of nutrients present.\n",
      "-Can be damaged due to tidal surges, droughts, and human activities such as dredging.\n",
      "-Can be subject to changes in water quality due to climate change.\n",
      "-Can be difficult to restore once it is damaged.\n",
      "\n",
      "\n",
      "Pros: \n",
      "\n",
      "- Fast absorption rate\n",
      "- Provides energy\n",
      "- Widely available\n",
      "- Low Glycemic Index (GI)\n",
      "- Low cost \n",
      "\n",
      "Cons: \n",
      "\n",
      "- Highly processed\n",
      "- Can cause a spike in blood sugar levels\n",
      "- Can cause weight gain over time if consumed in large amounts\n",
      "- May contribute to the risk of diabetes and cardiovascular diseases if consumed in large amounts\n"
     ]
    }
   ],
   "source": [
    "ingredients = [\"corn\", \"vegetable oil\", \"maltodextrin\", \"salt\", \"dextrose\"]\n",
    "chain = LLMChain(llm=llm, prompt=prompt)\n",
    "for ingredient in ingredients:\n",
    "    print(chain.run(ingredient))\n",
    "\n",
    "\n",
    "# prompts = []\n",
    "# for ingredient in ingredients:\n",
    "#     prompts.append(prompt.format(ingredient=ingredient))\n",
    "\n",
    "# prompts\n"
   ]
  },
  {
   "cell_type": "code",
   "execution_count": null,
   "metadata": {},
   "outputs": [],
   "source": []
  }
 ],
 "metadata": {
  "kernelspec": {
   "display_name": "base",
   "language": "python",
   "name": "python3"
  },
  "language_info": {
   "codemirror_mode": {
    "name": "ipython",
    "version": 3
   },
   "file_extension": ".py",
   "mimetype": "text/x-python",
   "name": "python",
   "nbconvert_exporter": "python",
   "pygments_lexer": "ipython3",
   "version": "3.9.13"
  },
  "orig_nbformat": 4
 },
 "nbformat": 4,
 "nbformat_minor": 2
}
